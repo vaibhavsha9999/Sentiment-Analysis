{
  "nbformat": 4,
  "nbformat_minor": 0,
  "metadata": {
    "colab": {
      "name": "Product_Reviews.ipynb",
      "provenance": [],
      "collapsed_sections": []
    },
    "kernelspec": {
      "display_name": "Python 3",
      "name": "python3"
    },
    "language_info": {
      "name": "python"
    }
  },
  "cells": [
    {
      "cell_type": "code",
      "metadata": {
        "colab": {
          "base_uri": "https://localhost:8080/"
        },
        "id": "ryytSnBYbN6Y",
        "outputId": "3f4b8eb5-88dd-4602-d132-cdff9ce710a1"
      },
      "source": [
        "import pandas as pd\n",
        "import re\n",
        "import sklearn\n",
        "import numpy as np \n",
        "import time\n",
        "import nltk\n",
        "nltk.download('stopwords')\n",
        "import seaborn as sb\n",
        "from matplotlib import pyplot as plt\n",
        "from sklearn.model_selection import train_test_split\n",
        "from sklearn.metrics import accuracy_score,confusion_matrix,classification_report\n",
        "from sklearn.feature_extraction.text import TfidfVectorizer\n",
        "from sklearn.tree import DecisionTreeClassifier\n",
        "from sklearn.neighbors import KNeighborsClassifier\n",
        "from sklearn.naive_bayes import MultinomialNB\n",
        "from nltk.corpus import stopwords\n",
        "from sklearn.linear_model import LogisticRegression\n",
        "import joblib"
      ],
      "execution_count": null,
      "outputs": [
        {
          "output_type": "stream",
          "name": "stdout",
          "text": [
            "[nltk_data] Downloading package stopwords to /root/nltk_data...\n",
            "[nltk_data]   Package stopwords is already up-to-date!\n"
          ]
        }
      ]
    },
    {
      "cell_type": "code",
      "metadata": {
        "id": "P7zmIiRFjgn7"
      },
      "source": [
        "data=pd.read_csv(\"/content/drive/MyDrive/Colab Notebooks/Dataset/Amazon_Test.csv\",engine='python').iloc[:28000,:]"
      ],
      "execution_count": null,
      "outputs": []
    },
    {
      "cell_type": "code",
      "metadata": {
        "colab": {
          "base_uri": "https://localhost:8080/"
        },
        "id": "l1nNak3Ak2vX",
        "outputId": "2cc72c88-508c-41dd-f06c-cf9e13b1562a"
      },
      "source": [
        "print(\"Total sample is {}\".format(data.shape))"
      ],
      "execution_count": null,
      "outputs": [
        {
          "output_type": "stream",
          "name": "stdout",
          "text": [
            "Total sample is (28000, 2)\n"
          ]
        }
      ]
    },
    {
      "cell_type": "code",
      "metadata": {
        "colab": {
          "base_uri": "https://localhost:8080/",
          "height": 206
        },
        "id": "o9DOi1FS5Bxn",
        "outputId": "62aca462-bb8c-4b5a-bc47-6232819bc73c"
      },
      "source": [
        "data.head()"
      ],
      "execution_count": null,
      "outputs": [
        {
          "output_type": "execute_result",
          "data": {
            "text/html": [
              "<div>\n",
              "<style scoped>\n",
              "    .dataframe tbody tr th:only-of-type {\n",
              "        vertical-align: middle;\n",
              "    }\n",
              "\n",
              "    .dataframe tbody tr th {\n",
              "        vertical-align: top;\n",
              "    }\n",
              "\n",
              "    .dataframe thead th {\n",
              "        text-align: right;\n",
              "    }\n",
              "</style>\n",
              "<table border=\"1\" class=\"dataframe\">\n",
              "  <thead>\n",
              "    <tr style=\"text-align: right;\">\n",
              "      <th></th>\n",
              "      <th>Column1</th>\n",
              "      <th>Column2</th>\n",
              "    </tr>\n",
              "  </thead>\n",
              "  <tbody>\n",
              "    <tr>\n",
              "      <th>0</th>\n",
              "      <td>__label__2</td>\n",
              "      <td>Great CD: My lovely Pat has one of the GREAT v...</td>\n",
              "    </tr>\n",
              "    <tr>\n",
              "      <th>1</th>\n",
              "      <td>__label__2</td>\n",
              "      <td>One of the best game music soundtracks - for a...</td>\n",
              "    </tr>\n",
              "    <tr>\n",
              "      <th>2</th>\n",
              "      <td>__label__1</td>\n",
              "      <td>Batteries died within a year ...: I bought thi...</td>\n",
              "    </tr>\n",
              "    <tr>\n",
              "      <th>3</th>\n",
              "      <td>__label__2</td>\n",
              "      <td>works fine, but Maha Energy is better: Check o...</td>\n",
              "    </tr>\n",
              "    <tr>\n",
              "      <th>4</th>\n",
              "      <td>__label__2</td>\n",
              "      <td>Great for the non-audiophile: Reviewed quite a...</td>\n",
              "    </tr>\n",
              "  </tbody>\n",
              "</table>\n",
              "</div>"
            ],
            "text/plain": [
              "       Column1                                            Column2\n",
              "0  __label__2   Great CD: My lovely Pat has one of the GREAT v...\n",
              "1  __label__2   One of the best game music soundtracks - for a...\n",
              "2  __label__1   Batteries died within a year ...: I bought thi...\n",
              "3  __label__2   works fine, but Maha Energy is better: Check o...\n",
              "4  __label__2   Great for the non-audiophile: Reviewed quite a..."
            ]
          },
          "metadata": {},
          "execution_count": 48
        }
      ]
    },
    {
      "cell_type": "code",
      "metadata": {
        "id": "E6aOe9ydlGQd"
      },
      "source": [
        "review=data[\"Column1\"].value_counts()"
      ],
      "execution_count": null,
      "outputs": []
    },
    {
      "cell_type": "code",
      "metadata": {
        "colab": {
          "base_uri": "https://localhost:8080/",
          "height": 206
        },
        "id": "D5q9N0Ff1IJH",
        "outputId": "9debed32-7485-4bd8-a4b1-0e9117d17318"
      },
      "source": [
        "data.head()"
      ],
      "execution_count": null,
      "outputs": [
        {
          "output_type": "execute_result",
          "data": {
            "text/html": [
              "<div>\n",
              "<style scoped>\n",
              "    .dataframe tbody tr th:only-of-type {\n",
              "        vertical-align: middle;\n",
              "    }\n",
              "\n",
              "    .dataframe tbody tr th {\n",
              "        vertical-align: top;\n",
              "    }\n",
              "\n",
              "    .dataframe thead th {\n",
              "        text-align: right;\n",
              "    }\n",
              "</style>\n",
              "<table border=\"1\" class=\"dataframe\">\n",
              "  <thead>\n",
              "    <tr style=\"text-align: right;\">\n",
              "      <th></th>\n",
              "      <th>Column1</th>\n",
              "      <th>Column2</th>\n",
              "    </tr>\n",
              "  </thead>\n",
              "  <tbody>\n",
              "    <tr>\n",
              "      <th>0</th>\n",
              "      <td>__label__2</td>\n",
              "      <td>Great CD: My lovely Pat has one of the GREAT v...</td>\n",
              "    </tr>\n",
              "    <tr>\n",
              "      <th>1</th>\n",
              "      <td>__label__2</td>\n",
              "      <td>One of the best game music soundtracks - for a...</td>\n",
              "    </tr>\n",
              "    <tr>\n",
              "      <th>2</th>\n",
              "      <td>__label__1</td>\n",
              "      <td>Batteries died within a year ...: I bought thi...</td>\n",
              "    </tr>\n",
              "    <tr>\n",
              "      <th>3</th>\n",
              "      <td>__label__2</td>\n",
              "      <td>works fine, but Maha Energy is better: Check o...</td>\n",
              "    </tr>\n",
              "    <tr>\n",
              "      <th>4</th>\n",
              "      <td>__label__2</td>\n",
              "      <td>Great for the non-audiophile: Reviewed quite a...</td>\n",
              "    </tr>\n",
              "  </tbody>\n",
              "</table>\n",
              "</div>"
            ],
            "text/plain": [
              "       Column1                                            Column2\n",
              "0  __label__2   Great CD: My lovely Pat has one of the GREAT v...\n",
              "1  __label__2   One of the best game music soundtracks - for a...\n",
              "2  __label__1   Batteries died within a year ...: I bought thi...\n",
              "3  __label__2   works fine, but Maha Energy is better: Check o...\n",
              "4  __label__2   Great for the non-audiophile: Reviewed quite a..."
            ]
          },
          "metadata": {},
          "execution_count": 50
        }
      ]
    },
    {
      "cell_type": "code",
      "metadata": {
        "colab": {
          "base_uri": "https://localhost:8080/"
        },
        "id": "OXm3iVWhoUr7",
        "outputId": "691a1622-fc81-43bd-be1a-94194adca3ff"
      },
      "source": [
        "review"
      ],
      "execution_count": null,
      "outputs": [
        {
          "output_type": "execute_result",
          "data": {
            "text/plain": [
              "__label__2     14219\n",
              "__label__1     13781\n",
              "Name: Column1, dtype: int64"
            ]
          },
          "metadata": {},
          "execution_count": 51
        }
      ]
    },
    {
      "cell_type": "code",
      "metadata": {
        "colab": {
          "base_uri": "https://localhost:8080/",
          "height": 378
        },
        "id": "PovpbEiNobRa",
        "outputId": "0b8380bc-eeb5-44a7-f1bc-b041b59a8c43"
      },
      "source": [
        "sb.countplot(\"Column1\",data=data)\n",
        "plt.xticks(rotation=90)\n",
        "plt.show()"
      ],
      "execution_count": null,
      "outputs": [
        {
          "output_type": "stream",
          "name": "stderr",
          "text": [
            "/usr/local/lib/python3.7/dist-packages/seaborn/_decorators.py:43: FutureWarning: Pass the following variable as a keyword arg: x. From version 0.12, the only valid positional argument will be `data`, and passing other arguments without an explicit keyword will result in an error or misinterpretation.\n",
            "  FutureWarning\n"
          ]
        },
        {
          "output_type": "display_data",
          "data": {
            "image/png": "[encoded data removed]",
            "text/plain": [
              "<Figure size 432x288 with 1 Axes>"
            ]
          },
          "metadata": {
            "needs_background": "light"
          }
        }
      ]
    },
    {
      "cell_type": "code",
      "metadata": {
        "id": "T0nCqbffofjT"
      },
      "source": [
        "def text_cleaning(data):\n",
        "    corpus=[]\n",
        "    for i in range(0,len(data)):\n",
        "        process_data=re.sub(r'\\W',' ',str(data[i]))\n",
        "        process_data=process_data.lower()\n",
        "        process_data=re.sub(r'\\d+',\" \",process_data)\n",
        "        process_data=re.sub(r\"[^a-zA-Z]\",' ',process_data)\n",
        "        process_data=re.sub(r'\\s+',' ',process_data)\n",
        "        corpus.append(process_data)\n",
        "    return corpus"
      ],
      "execution_count": null,
      "outputs": []
    },
    {
      "cell_type": "code",
      "metadata": {
        "id": "VZKmDMTeoptO"
      },
      "source": [
        "corpus=text_cleaning(data[\"Column2\"])"
      ],
      "execution_count": null,
      "outputs": []
    },
    {
      "cell_type": "code",
      "metadata": {
        "id": "gGPMYnrLotkE"
      },
      "source": [
        "tf_vector=TfidfVectorizer(max_features=len(corpus),ngram_range=(1,2),min_df=1,max_df=.8,stop_words=stopwords.words('english'))"
      ],
      "execution_count": null,
      "outputs": []
    },
    {
      "cell_type": "code",
      "metadata": {
        "id": "JQbM_9F44wCJ",
        "colab": {
          "base_uri": "https://localhost:8080/"
        },
        "outputId": "6d0be061-53d1-442c-9e66-fdf830c9028f"
      },
      "source": [
        "tf_vector"
      ],
      "execution_count": null,
      "outputs": [
        {
          "output_type": "execute_result",
          "data": {
            "text/plain": [
              "TfidfVectorizer(max_df=0.8, max_features=28000, ngram_range=(1, 2),\n",
              "                stop_words=['i', 'me', 'my', 'myself', 'we', 'our', 'ours',\n",
              "                            'ourselves', 'you', \"you're\", \"you've\", \"you'll\",\n",
              "                            \"you'd\", 'your', 'yours', 'yourself', 'yourselves',\n",
              "                            'he', 'him', 'his', 'himself', 'she', \"she's\",\n",
              "                            'her', 'hers', 'herself', 'it', \"it's\", 'its',\n",
              "                            'itself', ...])"
            ]
          },
          "metadata": {},
          "execution_count": 88
        }
      ]
    },
    {
      "cell_type": "code",
      "metadata": {
        "id": "cXhR8zE3oyh-"
      },
      "source": [
        "tf_vector_matrix=tf_vector.fit_transform(corpus)\n"
      ],
      "execution_count": null,
      "outputs": []
    },
    {
      "cell_type": "code",
      "metadata": {
        "colab": {
          "base_uri": "https://localhost:8080/"
        },
        "id": "7P9MjRxLo3NO",
        "outputId": "4c694a4b-64e2-4e6e-ec69-e6a0fe9e75fd"
      },
      "source": [
        "tf_vector_matrix"
      ],
      "execution_count": null,
      "outputs": [
        {
          "output_type": "execute_result",
          "data": {
            "text/plain": [
              "<28000x28000 sparse matrix of type '<class 'numpy.float64'>'\n",
              "\twith 1416182 stored elements in Compressed Sparse Row format>"
            ]
          },
          "metadata": {},
          "execution_count": 57
        }
      ]
    },
    {
      "cell_type": "code",
      "metadata": {
        "colab": {
          "base_uri": "https://localhost:8080/"
        },
        "id": "o2oMhb30o51l",
        "outputId": "d9eb9e8c-f76f-43ae-b6f8-7e437a621af7"
      },
      "source": [
        "tf_vector_matrix.todense()\n",
        "tf_vector_matrix"
      ],
      "execution_count": null,
      "outputs": [
        {
          "output_type": "execute_result",
          "data": {
            "text/plain": [
              "<28000x28000 sparse matrix of type '<class 'numpy.float64'>'\n",
              "\twith 1416182 stored elements in Compressed Sparse Row format>"
            ]
          },
          "metadata": {},
          "execution_count": 58
        }
      ]
    },
    {
      "cell_type": "code",
      "metadata": {
        "colab": {
          "base_uri": "https://localhost:8080/"
        },
        "id": "7A2WTdlNo9XW",
        "outputId": "cd07b274-ee1f-43b2-eb78-bce25fafaa0c"
      },
      "source": [
        "tf_name=tf_vector.get_feature_names()"
      ],
      "execution_count": null,
      "outputs": [
        {
          "output_type": "stream",
          "name": "stderr",
          "text": [
            "/usr/local/lib/python3.7/dist-packages/sklearn/utils/deprecation.py:87: FutureWarning: Function get_feature_names is deprecated; get_feature_names is deprecated in 1.0 and will be removed in 1.2. Please use get_feature_names_out instead.\n",
            "  warnings.warn(msg, category=FutureWarning)\n"
          ]
        }
      ]
    },
    {
      "cell_type": "code",
      "metadata": {
        "id": "lB0CMeZCpFXX"
      },
      "source": [
        "x_feature=tf_vector_matrix\n",
        "y_target=data[\"Column1\"]"
      ],
      "execution_count": null,
      "outputs": []
    },
    {
      "cell_type": "code",
      "metadata": {
        "id": "68T0_BiJqbIh"
      },
      "source": [
        "Xtrain,Xtest,Ytrain,Ytest=train_test_split(x_feature,y_target,test_size=.30,random_state=101)"
      ],
      "execution_count": null,
      "outputs": []
    },
    {
      "cell_type": "code",
      "metadata": {
        "id": "Dl56wnwspKXm"
      },
      "source": [
        "#KNN"
      ],
      "execution_count": null,
      "outputs": []
    },
    {
      "cell_type": "code",
      "metadata": {
        "colab": {
          "base_uri": "https://localhost:8080/"
        },
        "id": "-ngBHKnTpP0A",
        "outputId": "1debb235-3079-4760-ca29-1f756abf0fbf"
      },
      "source": [
        "s1=time.time()\n",
        "KnnModel=KNeighborsClassifier().fit(Xtrain,Ytrain)\n",
        "s2=time.time()\n",
        "knn_tt=s2-s1\n",
        "print(f\"time taken by knn is {knn_tt}\")"
      ],
      "execution_count": null,
      "outputs": [
        {
          "output_type": "stream",
          "name": "stdout",
          "text": [
            "time taken by knn is 0.03613877296447754\n"
          ]
        }
      ]
    },
    {
      "cell_type": "code",
      "metadata": {
        "colab": {
          "base_uri": "https://localhost:8080/"
        },
        "id": "Q7DsSKIAqAgd",
        "outputId": "a25c794a-6378-4d41-ccb9-f16877be0837"
      },
      "source": [
        "Ya=Ytest\n",
        "s1=time.time()\n",
        "Yp=KnnModel.predict(Xtest)\n",
        "s2=time.time()\n",
        "knn_ts=s2-s1\n",
        "print(f\"time taken by knn testing is {knn_ts}\")"
      ],
      "execution_count": null,
      "outputs": [
        {
          "output_type": "stream",
          "name": "stdout",
          "text": [
            "time taken by knn testing is 8.228373050689697\n"
          ]
        }
      ]
    },
    {
      "cell_type": "code",
      "metadata": {
        "id": "Er83PCFpuXDu"
      },
      "source": [
        "acc_knn=accuracy_score(Ya,Yp)*100"
      ],
      "execution_count": null,
      "outputs": []
    },
    {
      "cell_type": "code",
      "metadata": {
        "colab": {
          "base_uri": "https://localhost:8080/"
        },
        "id": "03Nf2cgaqnMU",
        "outputId": "9dfac86d-8a62-444f-fc92-5bf910a9e269"
      },
      "source": [
        "print(f'accucracy of KNN is {acc_knn}')\n",
        "print(f'\\nconfusion matrix KNN \\n{confusion_matrix(Ya,Yp)}')\n",
        "print(f'\\nclassification report KNN\\n {classification_report(Ya,Yp)}')"
      ],
      "execution_count": null,
      "outputs": [
        {
          "output_type": "stream",
          "name": "stdout",
          "text": [
            "accucracy of KNN is 70.33333333333334\n",
            "\n",
            "confusion matrix KNN \n",
            "[[2750 1345]\n",
            " [1147 3158]]\n",
            "\n",
            "classification report KNN\n",
            "               precision    recall  f1-score   support\n",
            "\n",
            " __label__1        0.71      0.67      0.69      4095\n",
            " __label__2        0.70      0.73      0.72      4305\n",
            "\n",
            "    accuracy                           0.70      8400\n",
            "   macro avg       0.70      0.70      0.70      8400\n",
            "weighted avg       0.70      0.70      0.70      8400\n",
            "\n"
          ]
        }
      ]
    },
    {
      "cell_type": "code",
      "metadata": {
        "id": "NTCSIeAuqsQw"
      },
      "source": [
        "#LogisticRegression"
      ],
      "execution_count": null,
      "outputs": []
    },
    {
      "cell_type": "code",
      "metadata": {
        "id": "6pL3wJ7Wqv8e",
        "colab": {
          "base_uri": "https://localhost:8080/"
        },
        "outputId": "c7c0c707-7f2b-4a10-9540-43bad57f6e9a"
      },
      "source": [
        "s1=time.time()\n",
        "LRModel=LogisticRegression().fit(Xtrain,Ytrain)\n",
        "s2=time.time()\n",
        "lr_tt=s2-s1\n",
        "print(f\"time taken by lr  is {lr_tt}\")"
      ],
      "execution_count": null,
      "outputs": [
        {
          "output_type": "stream",
          "name": "stdout",
          "text": [
            "time taken by lr  is 0.7077047824859619\n"
          ]
        }
      ]
    },
    {
      "cell_type": "code",
      "metadata": {
        "id": "rFgUXO-1r3TB",
        "colab": {
          "base_uri": "https://localhost:8080/"
        },
        "outputId": "53419aac-3da5-480e-eaa9-5b7ff52a683b"
      },
      "source": [
        "Ya=Ytest\n",
        "s1=time.time()\n",
        "Yp=LRModel.predict(Xtest)\n",
        "s2=time.time()\n",
        "lr_ts=s2-s1\n",
        "print(f\"time taken by lr testing is {lr_ts}\")"
      ],
      "execution_count": null,
      "outputs": [
        {
          "output_type": "stream",
          "name": "stdout",
          "text": [
            "time taken by lr testing is 0.007616996765136719\n"
          ]
        }
      ]
    },
    {
      "cell_type": "code",
      "metadata": {
        "id": "JGsTVBVCuRRM"
      },
      "source": [
        "acc_lr=accuracy_score(Ya,Yp)*100"
      ],
      "execution_count": null,
      "outputs": []
    },
    {
      "cell_type": "code",
      "metadata": {
        "id": "7Ge-3Wowr5Jv",
        "colab": {
          "base_uri": "https://localhost:8080/"
        },
        "outputId": "b07e7fc1-68d9-454f-83f3-6dbc1c03fcb5"
      },
      "source": [
        "print(f'accucracy of LR is {acc_lr}')\n",
        "print(f'\\nconfusion matrix LR \\n{confusion_matrix(Ya,Yp)}')\n",
        "print(f'\\nclassification report LR\\n {classification_report(Ya,Yp)}')"
      ],
      "execution_count": null,
      "outputs": [
        {
          "output_type": "stream",
          "name": "stdout",
          "text": [
            "accucracy of LR is 87.10714285714286\n",
            "\n",
            "confusion matrix LR \n",
            "[[3537  558]\n",
            " [ 525 3780]]\n",
            "\n",
            "classification report LR\n",
            "               precision    recall  f1-score   support\n",
            "\n",
            " __label__1        0.87      0.86      0.87      4095\n",
            " __label__2        0.87      0.88      0.87      4305\n",
            "\n",
            "    accuracy                           0.87      8400\n",
            "   macro avg       0.87      0.87      0.87      8400\n",
            "weighted avg       0.87      0.87      0.87      8400\n",
            "\n"
          ]
        }
      ]
    },
    {
      "cell_type": "code",
      "metadata": {
        "id": "Hi172LXlsEF9"
      },
      "source": [
        "#NaiveBayes"
      ],
      "execution_count": null,
      "outputs": []
    },
    {
      "cell_type": "code",
      "metadata": {
        "id": "jsdAJqXUsns4",
        "colab": {
          "base_uri": "https://localhost:8080/"
        },
        "outputId": "b62f193d-a9df-46bf-eb70-743e855b3470"
      },
      "source": [
        "s1=time.time()\n",
        "NBModel=MultinomialNB().fit(Xtrain,Ytrain)\n",
        "s2=time.time()\n",
        "NB_tt=s2-s1\n",
        "print(f\"time taken by NB  is {NB_tt}\")"
      ],
      "execution_count": null,
      "outputs": [
        {
          "output_type": "stream",
          "name": "stdout",
          "text": [
            "time taken by NB  is 0.08815646171569824\n"
          ]
        }
      ]
    },
    {
      "cell_type": "code",
      "metadata": {
        "id": "Px_82tUKspgk",
        "colab": {
          "base_uri": "https://localhost:8080/"
        },
        "outputId": "353adf54-d270-4171-8f01-c22ff877c1cd"
      },
      "source": [
        "Ya=Ytest\n",
        "s1=time.time()\n",
        "Yp=NBModel.predict(Xtest)\n",
        "s2=time.time()\n",
        "NB_ts=s2-s1\n",
        "print(f\"time taken by NB testing is {NB_ts}\")"
      ],
      "execution_count": null,
      "outputs": [
        {
          "output_type": "stream",
          "name": "stdout",
          "text": [
            "time taken by NB testing is 0.0065784454345703125\n"
          ]
        }
      ]
    },
    {
      "cell_type": "code",
      "metadata": {
        "id": "4RLdW-KPuKfg"
      },
      "source": [
        "acc_NB=accuracy_score(Ya,Yp)*100"
      ],
      "execution_count": null,
      "outputs": []
    },
    {
      "cell_type": "code",
      "metadata": {
        "id": "GoP37tv6ssDu",
        "colab": {
          "base_uri": "https://localhost:8080/"
        },
        "outputId": "c0a5e0cd-234c-4847-d364-41b20f7ed6fe"
      },
      "source": [
        "print(f'accucracy of NB is {acc_NB}')\n",
        "print(f'\\nconfusion matrix NB \\n{confusion_matrix(Ya,Yp)}')\n",
        "print(f'\\nclassification report NB\\n {classification_report(Ya,Yp)}')"
      ],
      "execution_count": null,
      "outputs": [
        {
          "output_type": "stream",
          "name": "stdout",
          "text": [
            "accucracy of NB is 85.47619047619047\n",
            "\n",
            "confusion matrix NB \n",
            "[[3460  635]\n",
            " [ 585 3720]]\n",
            "\n",
            "classification report NB\n",
            "               precision    recall  f1-score   support\n",
            "\n",
            " __label__1        0.86      0.84      0.85      4095\n",
            " __label__2        0.85      0.86      0.86      4305\n",
            "\n",
            "    accuracy                           0.85      8400\n",
            "   macro avg       0.85      0.85      0.85      8400\n",
            "weighted avg       0.85      0.85      0.85      8400\n",
            "\n"
          ]
        }
      ]
    },
    {
      "cell_type": "code",
      "metadata": {
        "id": "jux942Vxs-eL"
      },
      "source": [
        "#DecisionTree"
      ],
      "execution_count": null,
      "outputs": []
    },
    {
      "cell_type": "code",
      "metadata": {
        "id": "WQRXI7ektBv1",
        "colab": {
          "base_uri": "https://localhost:8080/"
        },
        "outputId": "81fdaab7-8472-4b46-979e-758f64c00a49"
      },
      "source": [
        "s1=time.time()\n",
        "DTModel=DecisionTreeClassifier().fit(Xtrain,Ytrain)\n",
        "s2=time.time()\n",
        "DT_tt=s2-s1\n",
        "print(f\"time taken by DT  is {DT_tt}\")"
      ],
      "execution_count": null,
      "outputs": [
        {
          "output_type": "stream",
          "name": "stdout",
          "text": [
            "time taken by DT  is 16.61818838119507\n"
          ]
        }
      ]
    },
    {
      "cell_type": "code",
      "metadata": {
        "id": "KSPD0s59tDOF",
        "colab": {
          "base_uri": "https://localhost:8080/"
        },
        "outputId": "330c3c81-c719-4f9f-eb4e-d184820c0935"
      },
      "source": [
        "Ya=Ytest\n",
        "s1=time.time()\n",
        "Yp=DTModel.predict(Xtest)\n",
        "s2=time.time()\n",
        "DT_ts=s2-s1\n",
        "print(f\"time taken by DT testing is {DT_ts}\")"
      ],
      "execution_count": null,
      "outputs": [
        {
          "output_type": "stream",
          "name": "stdout",
          "text": [
            "time taken by DT testing is 0.02607440948486328\n"
          ]
        }
      ]
    },
    {
      "cell_type": "code",
      "metadata": {
        "id": "6hFzK0lBt9wd"
      },
      "source": [
        "acc_DT=accuracy_score(Ya,Yp)*100"
      ],
      "execution_count": null,
      "outputs": []
    },
    {
      "cell_type": "code",
      "metadata": {
        "id": "d0rukpgutFQt",
        "colab": {
          "base_uri": "https://localhost:8080/"
        },
        "outputId": "c25c751e-89fa-410d-a094-88f95b2df284"
      },
      "source": [
        "print(f'accucracy of DT is {acc_DT}')\n",
        "print(f'\\nconfusion matrix DT \\n{confusion_matrix(Ya,Yp)}')\n",
        "print(f'\\nclassification report DT\\n {classification_report(Ya,Yp)}')"
      ],
      "execution_count": null,
      "outputs": [
        {
          "output_type": "stream",
          "name": "stdout",
          "text": [
            "accucracy of DT is 72.72619047619048\n",
            "\n",
            "confusion matrix DT \n",
            "[[2963 1132]\n",
            " [1159 3146]]\n",
            "\n",
            "classification report DT\n",
            "               precision    recall  f1-score   support\n",
            "\n",
            " __label__1        0.72      0.72      0.72      4095\n",
            " __label__2        0.74      0.73      0.73      4305\n",
            "\n",
            "    accuracy                           0.73      8400\n",
            "   macro avg       0.73      0.73      0.73      8400\n",
            "weighted avg       0.73      0.73      0.73      8400\n",
            "\n"
          ]
        }
      ]
    },
    {
      "cell_type": "code",
      "metadata": {
        "id": "W0D5JIEHtzwF"
      },
      "source": [
        "tt_time=[knn_tt,lr_tt,NB_tt,DT_tt]\n",
        "ts_time=[knn_ts,lr_ts,NB_ts,DT_ts]\n",
        "acc_model=[acc_knn,acc_lr,acc_NB,acc_DT]\n",
        "model_name=['KNN','LR','NB','DT']"
      ],
      "execution_count": null,
      "outputs": []
    },
    {
      "cell_type": "code",
      "metadata": {
        "id": "j0kQw9uvtLcO"
      },
      "source": [
        "table=pd.DataFrame({'TrainTime':tt_time,'TestingTime':ts_time,'Acc':acc_model},index=model_name)"
      ],
      "execution_count": null,
      "outputs": []
    },
    {
      "cell_type": "code",
      "metadata": {
        "id": "5t3nmvMStdOw",
        "colab": {
          "base_uri": "https://localhost:8080/",
          "height": 175
        },
        "outputId": "bb37ad44-3d07-4685-d841-1ffa4c3d2cf7"
      },
      "source": [
        "table"
      ],
      "execution_count": null,
      "outputs": [
        {
          "output_type": "execute_result",
          "data": {
            "text/html": [
              "<div>\n",
              "<style scoped>\n",
              "    .dataframe tbody tr th:only-of-type {\n",
              "        vertical-align: middle;\n",
              "    }\n",
              "\n",
              "    .dataframe tbody tr th {\n",
              "        vertical-align: top;\n",
              "    }\n",
              "\n",
              "    .dataframe thead th {\n",
              "        text-align: right;\n",
              "    }\n",
              "</style>\n",
              "<table border=\"1\" class=\"dataframe\">\n",
              "  <thead>\n",
              "    <tr style=\"text-align: right;\">\n",
              "      <th></th>\n",
              "      <th>TrainTime</th>\n",
              "      <th>TestingTime</th>\n",
              "      <th>Acc</th>\n",
              "    </tr>\n",
              "  </thead>\n",
              "  <tbody>\n",
              "    <tr>\n",
              "      <th>KNN</th>\n",
              "      <td>0.036139</td>\n",
              "      <td>8.228373</td>\n",
              "      <td>70.333333</td>\n",
              "    </tr>\n",
              "    <tr>\n",
              "      <th>LR</th>\n",
              "      <td>0.707705</td>\n",
              "      <td>0.007617</td>\n",
              "      <td>87.107143</td>\n",
              "    </tr>\n",
              "    <tr>\n",
              "      <th>NB</th>\n",
              "      <td>0.088156</td>\n",
              "      <td>0.006578</td>\n",
              "      <td>85.476190</td>\n",
              "    </tr>\n",
              "    <tr>\n",
              "      <th>DT</th>\n",
              "      <td>16.618188</td>\n",
              "      <td>0.026074</td>\n",
              "      <td>72.726190</td>\n",
              "    </tr>\n",
              "  </tbody>\n",
              "</table>\n",
              "</div>"
            ],
            "text/plain": [
              "     TrainTime  TestingTime        Acc\n",
              "KNN   0.036139     8.228373  70.333333\n",
              "LR    0.707705     0.007617  87.107143\n",
              "NB    0.088156     0.006578  85.476190\n",
              "DT   16.618188     0.026074  72.726190"
            ]
          },
          "metadata": {},
          "execution_count": 84
        }
      ]
    },
    {
      "cell_type": "code",
      "metadata": {
        "id": "Y8f1aodDujwn",
        "colab": {
          "base_uri": "https://localhost:8080/",
          "height": 806
        },
        "outputId": "f854a653-6156-4e9e-bb04-a5f37d6892df"
      },
      "source": [
        "plt.bar(model_name,tt_time,label='training time',color=['red'])\n",
        "plt.ylabel('train time')\n",
        "plt.xlabel('model_name')\n",
        "plt.show()\n",
        "plt.bar(model_name,ts_time,label='testing time',color=['blue'])\n",
        "plt.ylabel('test time')\n",
        "plt.xlabel('model_name')\n",
        "plt.show()\n",
        "plt.bar(model_name,acc_model,label='accuracy',color=['green'])\n",
        "plt.ylabel('accuracy')\n",
        "plt.xlabel('model_name')\n",
        "plt.show()"
      ],
      "execution_count": null,
      "outputs": [
        {
          "output_type": "display_data",
          "data": {
            "image/png": "[encoded data removed]",
            "text/plain": [
              "<Figure size 432x288 with 1 Axes>"
            ]
          },
          "metadata": {
            "needs_background": "light"
          }
        },
        {
          "output_type": "display_data",
          "data": {
            "image/png": "[encoded data removed]",
            "text/plain": [
              "<Figure size 432x288 with 1 Axes>"
            ]
          },
          "metadata": {
            "needs_background": "light"
          }
        },
        {
          "output_type": "display_data",
          "data": {
            "image/png": "[encoded data removed]",
            "text/plain": [
              "<Figure size 432x288 with 1 Axes>"
            ]
          },
          "metadata": {
            "needs_background": "light"
          }
        }
      ]
    },
    {
      "cell_type": "code",
      "metadata": {
        "id": "AMUFpWlbHEqg",
        "colab": {
          "base_uri": "https://localhost:8080/"
        },
        "outputId": "9acf42fb-921f-4f28-8983-2b8bca9f1b2f"
      },
      "source": [
        "# joblib.dump(NBModel,'Model.pkl')\n",
        "# joblib.dump(tf_vector,'tfvector.pkl')"
      ],
      "execution_count": null,
      "outputs": [
        {
          "output_type": "execute_result",
          "data": {
            "text/plain": [
              "['Model.pkl']"
            ]
          },
          "metadata": {},
          "execution_count": 87
        }
      ]
    },
    {
      "cell_type": "code",
      "metadata": {
        "id": "9bLoC_-olHpF"
      },
      "source": [
        ""
      ],
      "execution_count": null,
      "outputs": []
    }
  ]
}